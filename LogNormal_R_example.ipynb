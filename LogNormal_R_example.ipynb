{
 "cells": [
  {
   "cell_type": "markdown",
   "metadata": {},
   "source": [
    "THIS IS SOME SIMPLE R CODING to PLOT LOGNORMAL EUR "
   ]
  },
  {
   "cell_type": "markdown",
   "metadata": {},
   "source": [
    "TO GIVE YOU AN INTRODUCTORY TASTE OF R and the awesome Jupyter NoteBooks go to cybera.syzygy.ca and sign in with your gmail account.\n",
    "For more advanced coding R Studio is the favourite right now, and it is FREE also! [Well, maybe not free for large enterprises but free for you for sure].  The beauty of this cybera.syzygy.ca experiment is that we can have fun with Python, Julia or R! Crazy! Cybera is the operator of Alberta's supernet, they also do some interesting advocacy work to keep our internet accessible and affordable.\n"
   ]
  },
  {
   "cell_type": "markdown",
   "metadata": {},
   "source": [
    "JC PHENE, P. ENG. MARCH 20, 2010"
   ]
  },
  {
   "cell_type": "code",
   "execution_count": null,
   "metadata": {
    "collapsed": true
   },
   "outputs": [],
   "source": [
    "library(ggplot2)\n",
    "library(scales)"
   ]
  },
  {
   "cell_type": "markdown",
   "metadata": {},
   "source": [
    "First generate some sample lognormal data.\n",
    "Note: the R package/system tidyr is great for loading in your own EUR [Expected Ultimate Recovery] from your favorite oil and gas reserves package.\n",
    "Remember the middle term x here is e^x\n",
    "Let's see what 15 vs. 100 samples from the same mathematical pot look like!"
   ]
  },
  {
   "cell_type": "code",
   "execution_count": null,
   "metadata": {
    "collapsed": true
   },
   "outputs": [],
   "source": [
    "x1 <- rlnorm(15, 4.9, 1)\n",
    "x2 <-rlnorm(200,4.9,1)"
   ]
  },
  {
   "cell_type": "markdown",
   "metadata": {},
   "source": [
    "there is also an ecdf() function in ggplot that handles this next line but I have not yet figured out how \n",
    "to get it to give me the logEUR x scale you will see below."
   ]
  },
  {
   "cell_type": "code",
   "execution_count": null,
   "metadata": {},
   "outputs": [],
   "source": [
    "#HOMEWORK: Max(rank(x)) is a proxy for which count function? ANSWER: length(x) type help(length) for details\n",
    "y1 <- (rank(x1)-0.5)/max(rank(x1))\n",
    "y2 <-(rank(x2)-0.5)/max(rank(x2))"
   ]
  },
  {
   "cell_type": "code",
   "execution_count": null,
   "metadata": {},
   "outputs": [],
   "source": [
    "#ggplot2 which I really must learn better feeds on data frames which is also something new for me\n",
    "jcpData <- data.frame(x,y)\n",
    "jcpBigData <- data.frame(x2,y2)\n",
    "#this creates the graphs and used to take me four times as many lines in python:\n",
    "\n",
    "jcp_test_graph <- ggplot(data = jcpData, aes(x = x1,y = y1) ) +  \n",
    "    geom_point(color = 'blue') +\n",
    "    \n",
    "    scale_y_continuous(trans = scales::probability_trans(\"norm\"),  \n",
    "    breaks = c( 0.01,0.02, 0.05, 0.10, 0.20, 0.3, 0.4, 0.5, 0.6, 0.70, 0.8, 0.9 , 0.95,0.98, 0.99), \n",
    "    limits = c(0.01, 0.99), labels = scales::percent) +\n",
    "    \n",
    "    #You need to make sure you do not drop your end of line commas and \"+\" signs above, kind of like the \";\" \n",
    "    # at the end of the line in SQL...\n",
    "    #There may be an easier or more elegant way to do the following:\n",
    "\n",
    "    scale_x_continuous(trans = scales::log10_trans(), minor_breaks = c(2,3,4,5,6,7,8,9,20,30,40,50,60,70,80,90,200,300,\n",
    "    400,500,600,700,800,900, 2000)) +\n",
    "    labs(x = \"EUR sample data set, [ANY UNITS]\", y = \"Percentile\", title = \"JCP_LOGNORMAL_R_TEST\") +\n",
    "    theme_bw()+\n",
    "    theme(panel.grid.major = element_line(size = 0.2, colour = \"black\"), \n",
    "          panel.grid.minor = element_line(size = 0.05, colour = \"black\"))+\n",
    "    #'level' is your confidence interval on the error bar.  We ALL had to take STATS 101, right?\n",
    "    stat_smooth(method='lm', color = 'red', level = 0.95)\n",
    "\n",
    "jcp_test_graph2 <- ggplot (data = jcpBigData, aes(x = x2,y = y2)) +\n",
    "    geom_point(color = 'green') +\n",
    "    geom_point(data = jcpData, aes( x = x1, y = y1), color = 'blue') +\n",
    "    scale_y_continuous(trans = scales::probability_trans(\"norm\"),  \n",
    "    breaks = c( 0.01,0.02, 0.05, 0.10, 0.20, 0.3, 0.4, 0.5, 0.6, 0.70, 0.8, 0.9 , 0.95,0.98, 0.99), \n",
    "    limits = c(0.01, 0.99), labels = scales::percent) +\n",
    "    \n",
    "    scale_x_continuous(trans = scales::log10_trans(), minor_breaks = c(2,3,4,5,6,7,8,9,20,30,40,50,60,70,80,90,200,300,\n",
    "    400,500,600,700,800,900, 2000)) +\n",
    "    labs(x = \"EUR sample data set, [ANY UNITS]\", y = \"Percentile\", title = \"JCP_LOGNORMAL_R_TEST; compare small to large n\") +\n",
    "    theme_bw()+\n",
    "    theme(panel.grid.major = element_line(size = 0.2, colour = \"black\"), \n",
    "          panel.grid.minor = element_line(size = 0.05, colour = \"black\"))+\n",
    "    stat_smooth(method='lm', color = 'black', level = 0.95)+ \n",
    "    stat_smooth(data = jcpData, aes(x=x1, y=y1), method = 'lm', color = 'red', level = 0.95) \n",
    "    \n",
    "    \n",
    "#This shows the graph, fun eh? : there may be some truncation errors I have not had a chance \n",
    "#to verify the \"limits\" statement above does what I think it is doing.\n",
    "jcp_test_graph2 "
   ]
  },
  {
   "cell_type": "markdown",
   "metadata": {
    "collapsed": true
   },
   "source": [
    "From here you would check your P10/P90 ratios [your proxy for variance], figure out your best fit line and maybe even get an estimate of what you can promise your lenders and investors from your 6 well drilling program [hint: this is NOT six times the arithmetic mean of the EUR's]."
   ]
  },
  {
   "cell_type": "markdown",
   "metadata": {},
   "source": [
    "Hope this helps. Happy Easter!"
   ]
  },
  {
   "cell_type": "code",
   "execution_count": null,
   "metadata": {
    "collapsed": true
   },
   "outputs": [],
   "source": [
    "jp <- ggplot(data = jcpData, aes(x=x1,y=y1)) + geom_point()\n",
    "jp2 <- ggplot(data = jcpBigData, aes(x=x2,y=y2)) + geom_point(color = 'red')"
   ]
  },
  {
   "cell_type": "code",
   "execution_count": null,
   "metadata": {},
   "outputs": [],
   "source": [
    "jp2 + jp"
   ]
  },
  {
   "cell_type": "code",
   "execution_count": null,
   "metadata": {
    "collapsed": true
   },
   "outputs": [],
   "source": [
    "help(data.frame)"
   ]
  },
  {
   "cell_type": "code",
   "execution_count": null,
   "metadata": {
    "collapsed": true
   },
   "outputs": [],
   "source": []
  }
 ],
 "metadata": {
  "kernelspec": {
   "display_name": "R",
   "language": "R",
   "name": "ir"
  },
  "language_info": {
   "codemirror_mode": "r",
   "file_extension": ".r",
   "mimetype": "text/x-r-source",
   "name": "R",
   "pygments_lexer": "r",
   "version": "3.3.2"
  }
 },
 "nbformat": 4,
 "nbformat_minor": 2
}
